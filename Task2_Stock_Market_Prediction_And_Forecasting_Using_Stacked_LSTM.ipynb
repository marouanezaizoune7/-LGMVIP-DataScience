{
  "nbformat": 4,
  "nbformat_minor": 0,
  "metadata": {
    "colab": {
      "provenance": [],
      "collapsed_sections": []
    },
    "kernelspec": {
      "name": "python3",
      "display_name": "Python 3"
    },
    "language_info": {
      "name": "python"
    }
  },
  "cells": [
    {
      "cell_type": "markdown",
      "source": [
        "# MAROUANE ZAIZOUNE\n",
        "# Data science Internship\n",
        "# LetsGrowMore\n",
        "# Beginner Level\n",
        "# Task 2: Stock Market Prediction And Forecasting Using Stacked LSTM"
      ],
      "metadata": {
        "id": "38wXZiRe5602"
      }
    },
    {
      "cell_type": "markdown",
      "source": [
        "## Import Libraries"
      ],
      "metadata": {
        "id": "K10JhOTn68xf"
      }
    },
    {
      "cell_type": "code",
      "execution_count": 1,
      "metadata": {
        "id": "v7Kcy5yq5ZYQ"
      },
      "outputs": [],
      "source": [
        "import pandas as pd\n",
        "import numpy as np\n",
        "import math\n",
        "import matplotlib.pyplot as plt\n",
        "from sklearn.preprocessing import MinMaxScaler\n",
        "from sklearn.metrics import mean_squared_error\n",
        "import tensorflow as tf\n",
        "from tensorflow.python.keras.models import Sequential\n",
        "from tensorflow.python.keras.layers import Dense\n",
        "from tensorflow.python.keras.layers import LSTM\n",
        "%matplotlib inline"
      ]
    },
    {
      "cell_type": "markdown",
      "source": [
        "## Loading the Dataset"
      ],
      "metadata": {
        "id": "j7ujJkwv7IcV"
      }
    },
    {
      "cell_type": "code",
      "source": [
        "df = pd.read_csv('https://raw.githubusercontent.com/mwitiderrick/stockprice/master/NSE-TATAGLOBAL.csv')\n",
        "df.head()"
      ],
      "metadata": {
        "colab": {
          "base_uri": "https://localhost:8080/",
          "height": 206
        },
        "id": "XJhgggbp7J2x",
        "outputId": "2c439a3f-0769-42f5-9029-26c5eb72f978"
      },
      "execution_count": 2,
      "outputs": [
        {
          "output_type": "execute_result",
          "data": {
            "text/plain": [
              "         Date    Open    High     Low    Last   Close  Total Trade Quantity  \\\n",
              "0  2018-09-28  234.05  235.95  230.20  233.50  233.75               3069914   \n",
              "1  2018-09-27  234.55  236.80  231.10  233.80  233.25               5082859   \n",
              "2  2018-09-26  240.00  240.00  232.50  235.00  234.25               2240909   \n",
              "3  2018-09-25  233.30  236.75  232.00  236.25  236.10               2349368   \n",
              "4  2018-09-24  233.55  239.20  230.75  234.00  233.30               3423509   \n",
              "\n",
              "   Turnover (Lacs)  \n",
              "0          7162.35  \n",
              "1         11859.95  \n",
              "2          5248.60  \n",
              "3          5503.90  \n",
              "4          7999.55  "
            ],
            "text/html": [
              "\n",
              "  <div id=\"df-afc8a492-e8a0-4a6c-bc20-6235b897d986\">\n",
              "    <div class=\"colab-df-container\">\n",
              "      <div>\n",
              "<style scoped>\n",
              "    .dataframe tbody tr th:only-of-type {\n",
              "        vertical-align: middle;\n",
              "    }\n",
              "\n",
              "    .dataframe tbody tr th {\n",
              "        vertical-align: top;\n",
              "    }\n",
              "\n",
              "    .dataframe thead th {\n",
              "        text-align: right;\n",
              "    }\n",
              "</style>\n",
              "<table border=\"1\" class=\"dataframe\">\n",
              "  <thead>\n",
              "    <tr style=\"text-align: right;\">\n",
              "      <th></th>\n",
              "      <th>Date</th>\n",
              "      <th>Open</th>\n",
              "      <th>High</th>\n",
              "      <th>Low</th>\n",
              "      <th>Last</th>\n",
              "      <th>Close</th>\n",
              "      <th>Total Trade Quantity</th>\n",
              "      <th>Turnover (Lacs)</th>\n",
              "    </tr>\n",
              "  </thead>\n",
              "  <tbody>\n",
              "    <tr>\n",
              "      <th>0</th>\n",
              "      <td>2018-09-28</td>\n",
              "      <td>234.05</td>\n",
              "      <td>235.95</td>\n",
              "      <td>230.20</td>\n",
              "      <td>233.50</td>\n",
              "      <td>233.75</td>\n",
              "      <td>3069914</td>\n",
              "      <td>7162.35</td>\n",
              "    </tr>\n",
              "    <tr>\n",
              "      <th>1</th>\n",
              "      <td>2018-09-27</td>\n",
              "      <td>234.55</td>\n",
              "      <td>236.80</td>\n",
              "      <td>231.10</td>\n",
              "      <td>233.80</td>\n",
              "      <td>233.25</td>\n",
              "      <td>5082859</td>\n",
              "      <td>11859.95</td>\n",
              "    </tr>\n",
              "    <tr>\n",
              "      <th>2</th>\n",
              "      <td>2018-09-26</td>\n",
              "      <td>240.00</td>\n",
              "      <td>240.00</td>\n",
              "      <td>232.50</td>\n",
              "      <td>235.00</td>\n",
              "      <td>234.25</td>\n",
              "      <td>2240909</td>\n",
              "      <td>5248.60</td>\n",
              "    </tr>\n",
              "    <tr>\n",
              "      <th>3</th>\n",
              "      <td>2018-09-25</td>\n",
              "      <td>233.30</td>\n",
              "      <td>236.75</td>\n",
              "      <td>232.00</td>\n",
              "      <td>236.25</td>\n",
              "      <td>236.10</td>\n",
              "      <td>2349368</td>\n",
              "      <td>5503.90</td>\n",
              "    </tr>\n",
              "    <tr>\n",
              "      <th>4</th>\n",
              "      <td>2018-09-24</td>\n",
              "      <td>233.55</td>\n",
              "      <td>239.20</td>\n",
              "      <td>230.75</td>\n",
              "      <td>234.00</td>\n",
              "      <td>233.30</td>\n",
              "      <td>3423509</td>\n",
              "      <td>7999.55</td>\n",
              "    </tr>\n",
              "  </tbody>\n",
              "</table>\n",
              "</div>\n",
              "      <button class=\"colab-df-convert\" onclick=\"convertToInteractive('df-afc8a492-e8a0-4a6c-bc20-6235b897d986')\"\n",
              "              title=\"Convert this dataframe to an interactive table.\"\n",
              "              style=\"display:none;\">\n",
              "        \n",
              "  <svg xmlns=\"http://www.w3.org/2000/svg\" height=\"24px\"viewBox=\"0 0 24 24\"\n",
              "       width=\"24px\">\n",
              "    <path d=\"M0 0h24v24H0V0z\" fill=\"none\"/>\n",
              "    <path d=\"M18.56 5.44l.94 2.06.94-2.06 2.06-.94-2.06-.94-.94-2.06-.94 2.06-2.06.94zm-11 1L8.5 8.5l.94-2.06 2.06-.94-2.06-.94L8.5 2.5l-.94 2.06-2.06.94zm10 10l.94 2.06.94-2.06 2.06-.94-2.06-.94-.94-2.06-.94 2.06-2.06.94z\"/><path d=\"M17.41 7.96l-1.37-1.37c-.4-.4-.92-.59-1.43-.59-.52 0-1.04.2-1.43.59L10.3 9.45l-7.72 7.72c-.78.78-.78 2.05 0 2.83L4 21.41c.39.39.9.59 1.41.59.51 0 1.02-.2 1.41-.59l7.78-7.78 2.81-2.81c.8-.78.8-2.07 0-2.86zM5.41 20L4 18.59l7.72-7.72 1.47 1.35L5.41 20z\"/>\n",
              "  </svg>\n",
              "      </button>\n",
              "      \n",
              "  <style>\n",
              "    .colab-df-container {\n",
              "      display:flex;\n",
              "      flex-wrap:wrap;\n",
              "      gap: 12px;\n",
              "    }\n",
              "\n",
              "    .colab-df-convert {\n",
              "      background-color: #E8F0FE;\n",
              "      border: none;\n",
              "      border-radius: 50%;\n",
              "      cursor: pointer;\n",
              "      display: none;\n",
              "      fill: #1967D2;\n",
              "      height: 32px;\n",
              "      padding: 0 0 0 0;\n",
              "      width: 32px;\n",
              "    }\n",
              "\n",
              "    .colab-df-convert:hover {\n",
              "      background-color: #E2EBFA;\n",
              "      box-shadow: 0px 1px 2px rgba(60, 64, 67, 0.3), 0px 1px 3px 1px rgba(60, 64, 67, 0.15);\n",
              "      fill: #174EA6;\n",
              "    }\n",
              "\n",
              "    [theme=dark] .colab-df-convert {\n",
              "      background-color: #3B4455;\n",
              "      fill: #D2E3FC;\n",
              "    }\n",
              "\n",
              "    [theme=dark] .colab-df-convert:hover {\n",
              "      background-color: #434B5C;\n",
              "      box-shadow: 0px 1px 3px 1px rgba(0, 0, 0, 0.15);\n",
              "      filter: drop-shadow(0px 1px 2px rgba(0, 0, 0, 0.3));\n",
              "      fill: #FFFFFF;\n",
              "    }\n",
              "  </style>\n",
              "\n",
              "      <script>\n",
              "        const buttonEl =\n",
              "          document.querySelector('#df-afc8a492-e8a0-4a6c-bc20-6235b897d986 button.colab-df-convert');\n",
              "        buttonEl.style.display =\n",
              "          google.colab.kernel.accessAllowed ? 'block' : 'none';\n",
              "\n",
              "        async function convertToInteractive(key) {\n",
              "          const element = document.querySelector('#df-afc8a492-e8a0-4a6c-bc20-6235b897d986');\n",
              "          const dataTable =\n",
              "            await google.colab.kernel.invokeFunction('convertToInteractive',\n",
              "                                                     [key], {});\n",
              "          if (!dataTable) return;\n",
              "\n",
              "          const docLinkHtml = 'Like what you see? Visit the ' +\n",
              "            '<a target=\"_blank\" href=https://colab.research.google.com/notebooks/data_table.ipynb>data table notebook</a>'\n",
              "            + ' to learn more about interactive tables.';\n",
              "          element.innerHTML = '';\n",
              "          dataTable['output_type'] = 'display_data';\n",
              "          await google.colab.output.renderOutput(dataTable, element);\n",
              "          const docLink = document.createElement('div');\n",
              "          docLink.innerHTML = docLinkHtml;\n",
              "          element.appendChild(docLink);\n",
              "        }\n",
              "      </script>\n",
              "    </div>\n",
              "  </div>\n",
              "  "
            ]
          },
          "metadata": {},
          "execution_count": 2
        }
      ]
    },
    {
      "cell_type": "code",
      "source": [
        "df.tail()"
      ],
      "metadata": {
        "colab": {
          "base_uri": "https://localhost:8080/",
          "height": 206
        },
        "id": "AbA5a2Bv7Uvx",
        "outputId": "a564cac9-9da8-4d2a-d2cb-d65a2c4d4835"
      },
      "execution_count": 3,
      "outputs": [
        {
          "output_type": "execute_result",
          "data": {
            "text/plain": [
              "            Date   Open    High     Low    Last   Close  Total Trade Quantity  \\\n",
              "2030  2010-07-27  117.6  119.50  112.00  118.80  118.65                586100   \n",
              "2031  2010-07-26  120.1  121.00  117.10  117.10  117.60                658440   \n",
              "2032  2010-07-23  121.8  121.95  120.25  120.35  120.65                281312   \n",
              "2033  2010-07-22  120.3  122.00  120.25  120.75  120.90                293312   \n",
              "2034  2010-07-21  122.1  123.00  121.05  121.10  121.55                658666   \n",
              "\n",
              "      Turnover (Lacs)  \n",
              "2030           694.98  \n",
              "2031           780.01  \n",
              "2032           340.31  \n",
              "2033           355.17  \n",
              "2034           803.56  "
            ],
            "text/html": [
              "\n",
              "  <div id=\"df-a2b44fd5-5608-4def-bc0c-d7c457dc30c8\">\n",
              "    <div class=\"colab-df-container\">\n",
              "      <div>\n",
              "<style scoped>\n",
              "    .dataframe tbody tr th:only-of-type {\n",
              "        vertical-align: middle;\n",
              "    }\n",
              "\n",
              "    .dataframe tbody tr th {\n",
              "        vertical-align: top;\n",
              "    }\n",
              "\n",
              "    .dataframe thead th {\n",
              "        text-align: right;\n",
              "    }\n",
              "</style>\n",
              "<table border=\"1\" class=\"dataframe\">\n",
              "  <thead>\n",
              "    <tr style=\"text-align: right;\">\n",
              "      <th></th>\n",
              "      <th>Date</th>\n",
              "      <th>Open</th>\n",
              "      <th>High</th>\n",
              "      <th>Low</th>\n",
              "      <th>Last</th>\n",
              "      <th>Close</th>\n",
              "      <th>Total Trade Quantity</th>\n",
              "      <th>Turnover (Lacs)</th>\n",
              "    </tr>\n",
              "  </thead>\n",
              "  <tbody>\n",
              "    <tr>\n",
              "      <th>2030</th>\n",
              "      <td>2010-07-27</td>\n",
              "      <td>117.6</td>\n",
              "      <td>119.50</td>\n",
              "      <td>112.00</td>\n",
              "      <td>118.80</td>\n",
              "      <td>118.65</td>\n",
              "      <td>586100</td>\n",
              "      <td>694.98</td>\n",
              "    </tr>\n",
              "    <tr>\n",
              "      <th>2031</th>\n",
              "      <td>2010-07-26</td>\n",
              "      <td>120.1</td>\n",
              "      <td>121.00</td>\n",
              "      <td>117.10</td>\n",
              "      <td>117.10</td>\n",
              "      <td>117.60</td>\n",
              "      <td>658440</td>\n",
              "      <td>780.01</td>\n",
              "    </tr>\n",
              "    <tr>\n",
              "      <th>2032</th>\n",
              "      <td>2010-07-23</td>\n",
              "      <td>121.8</td>\n",
              "      <td>121.95</td>\n",
              "      <td>120.25</td>\n",
              "      <td>120.35</td>\n",
              "      <td>120.65</td>\n",
              "      <td>281312</td>\n",
              "      <td>340.31</td>\n",
              "    </tr>\n",
              "    <tr>\n",
              "      <th>2033</th>\n",
              "      <td>2010-07-22</td>\n",
              "      <td>120.3</td>\n",
              "      <td>122.00</td>\n",
              "      <td>120.25</td>\n",
              "      <td>120.75</td>\n",
              "      <td>120.90</td>\n",
              "      <td>293312</td>\n",
              "      <td>355.17</td>\n",
              "    </tr>\n",
              "    <tr>\n",
              "      <th>2034</th>\n",
              "      <td>2010-07-21</td>\n",
              "      <td>122.1</td>\n",
              "      <td>123.00</td>\n",
              "      <td>121.05</td>\n",
              "      <td>121.10</td>\n",
              "      <td>121.55</td>\n",
              "      <td>658666</td>\n",
              "      <td>803.56</td>\n",
              "    </tr>\n",
              "  </tbody>\n",
              "</table>\n",
              "</div>\n",
              "      <button class=\"colab-df-convert\" onclick=\"convertToInteractive('df-a2b44fd5-5608-4def-bc0c-d7c457dc30c8')\"\n",
              "              title=\"Convert this dataframe to an interactive table.\"\n",
              "              style=\"display:none;\">\n",
              "        \n",
              "  <svg xmlns=\"http://www.w3.org/2000/svg\" height=\"24px\"viewBox=\"0 0 24 24\"\n",
              "       width=\"24px\">\n",
              "    <path d=\"M0 0h24v24H0V0z\" fill=\"none\"/>\n",
              "    <path d=\"M18.56 5.44l.94 2.06.94-2.06 2.06-.94-2.06-.94-.94-2.06-.94 2.06-2.06.94zm-11 1L8.5 8.5l.94-2.06 2.06-.94-2.06-.94L8.5 2.5l-.94 2.06-2.06.94zm10 10l.94 2.06.94-2.06 2.06-.94-2.06-.94-.94-2.06-.94 2.06-2.06.94z\"/><path d=\"M17.41 7.96l-1.37-1.37c-.4-.4-.92-.59-1.43-.59-.52 0-1.04.2-1.43.59L10.3 9.45l-7.72 7.72c-.78.78-.78 2.05 0 2.83L4 21.41c.39.39.9.59 1.41.59.51 0 1.02-.2 1.41-.59l7.78-7.78 2.81-2.81c.8-.78.8-2.07 0-2.86zM5.41 20L4 18.59l7.72-7.72 1.47 1.35L5.41 20z\"/>\n",
              "  </svg>\n",
              "      </button>\n",
              "      \n",
              "  <style>\n",
              "    .colab-df-container {\n",
              "      display:flex;\n",
              "      flex-wrap:wrap;\n",
              "      gap: 12px;\n",
              "    }\n",
              "\n",
              "    .colab-df-convert {\n",
              "      background-color: #E8F0FE;\n",
              "      border: none;\n",
              "      border-radius: 50%;\n",
              "      cursor: pointer;\n",
              "      display: none;\n",
              "      fill: #1967D2;\n",
              "      height: 32px;\n",
              "      padding: 0 0 0 0;\n",
              "      width: 32px;\n",
              "    }\n",
              "\n",
              "    .colab-df-convert:hover {\n",
              "      background-color: #E2EBFA;\n",
              "      box-shadow: 0px 1px 2px rgba(60, 64, 67, 0.3), 0px 1px 3px 1px rgba(60, 64, 67, 0.15);\n",
              "      fill: #174EA6;\n",
              "    }\n",
              "\n",
              "    [theme=dark] .colab-df-convert {\n",
              "      background-color: #3B4455;\n",
              "      fill: #D2E3FC;\n",
              "    }\n",
              "\n",
              "    [theme=dark] .colab-df-convert:hover {\n",
              "      background-color: #434B5C;\n",
              "      box-shadow: 0px 1px 3px 1px rgba(0, 0, 0, 0.15);\n",
              "      filter: drop-shadow(0px 1px 2px rgba(0, 0, 0, 0.3));\n",
              "      fill: #FFFFFF;\n",
              "    }\n",
              "  </style>\n",
              "\n",
              "      <script>\n",
              "        const buttonEl =\n",
              "          document.querySelector('#df-a2b44fd5-5608-4def-bc0c-d7c457dc30c8 button.colab-df-convert');\n",
              "        buttonEl.style.display =\n",
              "          google.colab.kernel.accessAllowed ? 'block' : 'none';\n",
              "\n",
              "        async function convertToInteractive(key) {\n",
              "          const element = document.querySelector('#df-a2b44fd5-5608-4def-bc0c-d7c457dc30c8');\n",
              "          const dataTable =\n",
              "            await google.colab.kernel.invokeFunction('convertToInteractive',\n",
              "                                                     [key], {});\n",
              "          if (!dataTable) return;\n",
              "\n",
              "          const docLinkHtml = 'Like what you see? Visit the ' +\n",
              "            '<a target=\"_blank\" href=https://colab.research.google.com/notebooks/data_table.ipynb>data table notebook</a>'\n",
              "            + ' to learn more about interactive tables.';\n",
              "          element.innerHTML = '';\n",
              "          dataTable['output_type'] = 'display_data';\n",
              "          await google.colab.output.renderOutput(dataTable, element);\n",
              "          const docLink = document.createElement('div');\n",
              "          docLink.innerHTML = docLinkHtml;\n",
              "          element.appendChild(docLink);\n",
              "        }\n",
              "      </script>\n",
              "    </div>\n",
              "  </div>\n",
              "  "
            ]
          },
          "metadata": {},
          "execution_count": 3
        }
      ]
    },
    {
      "cell_type": "code",
      "source": [
        "df = df.iloc[::-1]"
      ],
      "metadata": {
        "id": "aVUglVcq77OM"
      },
      "execution_count": 4,
      "outputs": []
    },
    {
      "cell_type": "code",
      "source": [
        "df = df.reset_index()['High']"
      ],
      "metadata": {
        "id": "E790u90UCTD8"
      },
      "execution_count": 5,
      "outputs": []
    },
    {
      "cell_type": "code",
      "source": [
        "df.head()"
      ],
      "metadata": {
        "colab": {
          "base_uri": "https://localhost:8080/"
        },
        "id": "1KC9oBMv8EJ9",
        "outputId": "154f7b0b-b07a-4644-a626-b7211553dc3a"
      },
      "execution_count": 6,
      "outputs": [
        {
          "output_type": "execute_result",
          "data": {
            "text/plain": [
              "0    123.00\n",
              "1    122.00\n",
              "2    121.95\n",
              "3    121.00\n",
              "4    119.50\n",
              "Name: High, dtype: float64"
            ]
          },
          "metadata": {},
          "execution_count": 6
        }
      ]
    },
    {
      "cell_type": "code",
      "source": [
        "df.tail()"
      ],
      "metadata": {
        "colab": {
          "base_uri": "https://localhost:8080/"
        },
        "id": "PMnWHc7X8FXJ",
        "outputId": "8fdb8bfa-ddd0-47da-f3e4-69aa7049e352"
      },
      "execution_count": 7,
      "outputs": [
        {
          "output_type": "execute_result",
          "data": {
            "text/plain": [
              "2030    239.20\n",
              "2031    236.75\n",
              "2032    240.00\n",
              "2033    236.80\n",
              "2034    235.95\n",
              "Name: High, dtype: float64"
            ]
          },
          "metadata": {},
          "execution_count": 7
        }
      ]
    },
    {
      "cell_type": "markdown",
      "source": [
        "## Data Preprocessing"
      ],
      "metadata": {
        "id": "0yX0ijDE7dnL"
      }
    },
    {
      "cell_type": "code",
      "source": [
        "df.isnull().sum()"
      ],
      "metadata": {
        "colab": {
          "base_uri": "https://localhost:8080/"
        },
        "id": "XPg6goQt7cNt",
        "outputId": "2582b6e4-5f9c-40a7-f4c0-4183951e04c0"
      },
      "execution_count": 8,
      "outputs": [
        {
          "output_type": "execute_result",
          "data": {
            "text/plain": [
              "0"
            ]
          },
          "metadata": {},
          "execution_count": 8
        }
      ]
    },
    {
      "cell_type": "code",
      "source": [
        "df.duplicated().sum()"
      ],
      "metadata": {
        "colab": {
          "base_uri": "https://localhost:8080/"
        },
        "id": "tp27GfKW7i2_",
        "outputId": "dd1623fb-b974-4df0-b6b8-79187455a872"
      },
      "execution_count": 9,
      "outputs": [
        {
          "output_type": "execute_result",
          "data": {
            "text/plain": [
              "778"
            ]
          },
          "metadata": {},
          "execution_count": 9
        }
      ]
    },
    {
      "cell_type": "markdown",
      "source": [
        "## Data Visualization"
      ],
      "metadata": {
        "id": "tCwHFvMN8KIM"
      }
    },
    {
      "cell_type": "code",
      "source": [
        "plt.plot(df)"
      ],
      "metadata": {
        "colab": {
          "base_uri": "https://localhost:8080/",
          "height": 282
        },
        "id": "lRmEC2aJ8NNp",
        "outputId": "4dda813e-6bbe-49cd-d4f6-bc92f90ca8e6"
      },
      "execution_count": 10,
      "outputs": [
        {
          "output_type": "execute_result",
          "data": {
            "text/plain": [
              "[<matplotlib.lines.Line2D at 0x7f4ab8f68c50>]"
            ]
          },
          "metadata": {},
          "execution_count": 10
        },
        {
          "output_type": "display_data",
          "data": {
            "text/plain": [
              "<Figure size 432x288 with 1 Axes>"
            ],
            "image/png": "[encoded data removed]"
          },
          "metadata": {
            "needs_background": "light"
          }
        }
      ]
    },
    {
      "cell_type": "markdown",
      "source": [
        "Since LSTM are sensitive to the scale of the data, so we apply MinMax Scaler to transform our values between 0 and 1"
      ],
      "metadata": {
        "id": "cMiE7OU58gSq"
      }
    },
    {
      "cell_type": "code",
      "source": [
        "scaler = MinMaxScaler(feature_range = (0,1))\n",
        "df = scaler.fit_transform(np.array(df).reshape(-1,1))"
      ],
      "metadata": {
        "id": "c-_lGMYT8h6V"
      },
      "execution_count": 11,
      "outputs": []
    },
    {
      "cell_type": "code",
      "source": [
        "df.shape"
      ],
      "metadata": {
        "colab": {
          "base_uri": "https://localhost:8080/"
        },
        "id": "lfFp_bKG8isP",
        "outputId": "48f762ee-21f3-41d7-9b36-c4b014ad5c71"
      },
      "execution_count": 12,
      "outputs": [
        {
          "output_type": "execute_result",
          "data": {
            "text/plain": [
              "(2035, 1)"
            ]
          },
          "metadata": {},
          "execution_count": 12
        }
      ]
    },
    {
      "cell_type": "code",
      "source": [
        "#Split the data into train and test split\n",
        "\n",
        "training_size = int(len(df) * 0.75)\n",
        "test_size = len(df) - training_size\n",
        "train_data, test_data = df[0:training_size,:], df[training_size:len(df),:1]"
      ],
      "metadata": {
        "id": "Jmdhftsu8ilS"
      },
      "execution_count": 13,
      "outputs": []
    },
    {
      "cell_type": "code",
      "source": [
        "def create_dataset(dataset, time_step = 1):\n",
        "    dataX, dataY = [], []\n",
        "    for i in range(len(dataset) - time_step - 1):\n",
        "        a = dataset[i:(i+time_step), 0]\n",
        "        dataX.append(a)\n",
        "        dataY.append(dataset[i+time_step, 0])\n",
        "    return np.array(dataX), np.array(dataY)\n",
        "\n",
        "time_step = 100\n",
        "x_train, y_train = create_dataset(train_data, time_step)\n",
        "x_test, y_test = create_dataset(test_data, time_step)"
      ],
      "metadata": {
        "id": "ZOsp55Ua8ihw"
      },
      "execution_count": 14,
      "outputs": []
    },
    {
      "cell_type": "code",
      "source": [
        "#Reshape the input to be [samples, time steps, features] which is the requirement of LSTM\n",
        "x_train = x_train.reshape(x_train.shape[0], x_train.shape[1], 1)\n",
        "x_test = x_test.reshape(x_test.shape[0], x_test.shape[1], 1)"
      ],
      "metadata": {
        "id": "mkr3E9IB8idm"
      },
      "execution_count": 15,
      "outputs": []
    },
    {
      "cell_type": "markdown",
      "source": [
        "## Create the LSTM Model"
      ],
      "metadata": {
        "id": "ZSdeLQ5X9XGn"
      }
    },
    {
      "cell_type": "code",
      "source": [
        "model = Sequential()\n",
        "model.add(LSTM(50, return_sequences = True, input_shape = (100,1)))\n",
        "model.add(LSTM(50, return_sequences = True))\n",
        "model.add(LSTM(50))\n",
        "model.add(Dense(1))\n",
        "model.compile(loss = 'mean_squared_error', optimizer = 'adam')\n",
        "\n",
        "model.summary()"
      ],
      "metadata": {
        "colab": {
          "base_uri": "https://localhost:8080/"
        },
        "id": "dG-cS2K88iZG",
        "outputId": "32237ec3-c975-4383-f7ce-e85a523769d7"
      },
      "execution_count": 16,
      "outputs": [
        {
          "output_type": "stream",
          "name": "stdout",
          "text": [
            "Model: \"sequential\"\n",
            "_________________________________________________________________\n",
            "Layer (type)                 Output Shape              Param #   \n",
            "=================================================================\n",
            "lstm (LSTM)                  (None, 100, 50)           10400     \n",
            "_________________________________________________________________\n",
            "lstm_1 (LSTM)                (None, 100, 50)           20200     \n",
            "_________________________________________________________________\n",
            "lstm_2 (LSTM)                (None, 50)                20200     \n",
            "_________________________________________________________________\n",
            "dense (Dense)                (None, 1)                 51        \n",
            "=================================================================\n",
            "Total params: 50,851\n",
            "Trainable params: 50,851\n",
            "Non-trainable params: 0\n",
            "_________________________________________________________________\n"
          ]
        }
      ]
    },
    {
      "cell_type": "code",
      "source": [
        "model.fit(x_train, y_train, validation_data = (x_test, y_test), epochs = 100, batch_size = 64, verbose = 1)"
      ],
      "metadata": {
        "colab": {
          "base_uri": "https://localhost:8080/"
        },
        "id": "p2cZeoy_9g8L",
        "outputId": "8d504e73-77ad-421f-bff2-46cd8507165e"
      },
      "execution_count": 17,
      "outputs": [
        {
          "output_type": "stream",
          "name": "stdout",
          "text": [
            "Epoch 1/100\n",
            "23/23 [==============================] - 33s 629ms/step - loss: 0.0125 - val_loss: 0.0599\n",
            "Epoch 2/100\n",
            "23/23 [==============================] - 9s 381ms/step - loss: 0.0022 - val_loss: 0.0037\n",
            "Epoch 3/100\n",
            "23/23 [==============================] - 9s 383ms/step - loss: 8.8433e-04 - val_loss: 0.0035\n",
            "Epoch 4/100\n",
            "23/23 [==============================] - 9s 381ms/step - loss: 8.3021e-04 - val_loss: 0.0032\n",
            "Epoch 5/100\n",
            "23/23 [==============================] - 10s 431ms/step - loss: 7.8517e-04 - val_loss: 0.0036\n",
            "Epoch 6/100\n",
            "23/23 [==============================] - 9s 380ms/step - loss: 7.4639e-04 - val_loss: 0.0033\n",
            "Epoch 7/100\n",
            "23/23 [==============================] - 9s 381ms/step - loss: 7.1026e-04 - val_loss: 0.0043\n",
            "Epoch 8/100\n",
            "23/23 [==============================] - 9s 379ms/step - loss: 6.8471e-04 - val_loss: 0.0029\n",
            "Epoch 9/100\n",
            "23/23 [==============================] - 9s 383ms/step - loss: 7.4681e-04 - val_loss: 0.0054\n",
            "Epoch 10/100\n",
            "23/23 [==============================] - 9s 381ms/step - loss: 6.1559e-04 - val_loss: 0.0049\n",
            "Epoch 11/100\n",
            "23/23 [==============================] - 9s 379ms/step - loss: 6.0428e-04 - val_loss: 0.0096\n",
            "Epoch 12/100\n",
            "23/23 [==============================] - 11s 500ms/step - loss: 5.8989e-04 - val_loss: 0.0069\n",
            "Epoch 13/100\n",
            "23/23 [==============================] - 10s 431ms/step - loss: 6.2116e-04 - val_loss: 0.0144\n",
            "Epoch 14/100\n",
            "23/23 [==============================] - 9s 381ms/step - loss: 5.5472e-04 - val_loss: 0.0088\n",
            "Epoch 15/100\n",
            "23/23 [==============================] - 9s 377ms/step - loss: 5.2231e-04 - val_loss: 0.0079\n",
            "Epoch 16/100\n",
            "23/23 [==============================] - 9s 380ms/step - loss: 5.6358e-04 - val_loss: 0.0165\n",
            "Epoch 17/100\n",
            "23/23 [==============================] - 9s 383ms/step - loss: 5.2260e-04 - val_loss: 0.0116\n",
            "Epoch 18/100\n",
            "23/23 [==============================] - 9s 380ms/step - loss: 5.2153e-04 - val_loss: 0.0162\n",
            "Epoch 19/100\n",
            "23/23 [==============================] - 9s 381ms/step - loss: 4.8032e-04 - val_loss: 0.0137\n",
            "Epoch 20/100\n",
            "23/23 [==============================] - 9s 378ms/step - loss: 4.7417e-04 - val_loss: 0.0166\n",
            "Epoch 21/100\n",
            "23/23 [==============================] - 9s 413ms/step - loss: 4.8962e-04 - val_loss: 0.0093\n",
            "Epoch 22/100\n",
            "23/23 [==============================] - 9s 384ms/step - loss: 4.5975e-04 - val_loss: 0.0128\n",
            "Epoch 23/100\n",
            "23/23 [==============================] - 9s 380ms/step - loss: 4.5132e-04 - val_loss: 0.0094\n",
            "Epoch 24/100\n",
            "23/23 [==============================] - 9s 380ms/step - loss: 4.2198e-04 - val_loss: 0.0101\n",
            "Epoch 25/100\n",
            "23/23 [==============================] - 9s 380ms/step - loss: 4.1436e-04 - val_loss: 0.0108\n",
            "Epoch 26/100\n",
            "23/23 [==============================] - 10s 430ms/step - loss: 4.0101e-04 - val_loss: 0.0090\n",
            "Epoch 27/100\n",
            "23/23 [==============================] - 9s 378ms/step - loss: 3.9312e-04 - val_loss: 0.0092\n",
            "Epoch 28/100\n",
            "23/23 [==============================] - 9s 378ms/step - loss: 3.7471e-04 - val_loss: 0.0103\n",
            "Epoch 29/100\n",
            "23/23 [==============================] - 9s 376ms/step - loss: 3.6410e-04 - val_loss: 0.0066\n",
            "Epoch 30/100\n",
            "23/23 [==============================] - 9s 375ms/step - loss: 3.6017e-04 - val_loss: 0.0087\n",
            "Epoch 31/100\n",
            "23/23 [==============================] - 9s 379ms/step - loss: 3.4483e-04 - val_loss: 0.0073\n",
            "Epoch 32/100\n",
            "23/23 [==============================] - 9s 382ms/step - loss: 3.2927e-04 - val_loss: 0.0080\n",
            "Epoch 33/100\n",
            "23/23 [==============================] - 9s 382ms/step - loss: 3.2629e-04 - val_loss: 0.0069\n",
            "Epoch 34/100\n",
            "23/23 [==============================] - 9s 381ms/step - loss: 3.1616e-04 - val_loss: 0.0087\n",
            "Epoch 35/100\n",
            "23/23 [==============================] - 9s 381ms/step - loss: 2.9898e-04 - val_loss: 0.0076\n",
            "Epoch 36/100\n",
            "23/23 [==============================] - 9s 381ms/step - loss: 3.1934e-04 - val_loss: 0.0064\n",
            "Epoch 37/100\n",
            "23/23 [==============================] - 9s 380ms/step - loss: 2.8855e-04 - val_loss: 0.0042\n",
            "Epoch 38/100\n",
            "23/23 [==============================] - 9s 380ms/step - loss: 2.8988e-04 - val_loss: 0.0049\n",
            "Epoch 39/100\n",
            "23/23 [==============================] - 11s 483ms/step - loss: 2.6519e-04 - val_loss: 0.0064\n",
            "Epoch 40/100\n",
            "23/23 [==============================] - 9s 379ms/step - loss: 2.8730e-04 - val_loss: 0.0105\n",
            "Epoch 41/100\n",
            "23/23 [==============================] - 9s 378ms/step - loss: 2.9839e-04 - val_loss: 0.0108\n",
            "Epoch 42/100\n",
            "23/23 [==============================] - 9s 381ms/step - loss: 2.4691e-04 - val_loss: 0.0050\n",
            "Epoch 43/100\n",
            "23/23 [==============================] - 9s 382ms/step - loss: 2.2966e-04 - val_loss: 0.0036\n",
            "Epoch 44/100\n",
            "23/23 [==============================] - 9s 380ms/step - loss: 2.2471e-04 - val_loss: 0.0051\n",
            "Epoch 45/100\n",
            "23/23 [==============================] - 9s 382ms/step - loss: 2.1439e-04 - val_loss: 0.0050\n",
            "Epoch 46/100\n",
            "23/23 [==============================] - 9s 384ms/step - loss: 2.1044e-04 - val_loss: 0.0030\n",
            "Epoch 47/100\n",
            "23/23 [==============================] - 9s 380ms/step - loss: 2.2825e-04 - val_loss: 0.0051\n",
            "Epoch 48/100\n",
            "23/23 [==============================] - 9s 380ms/step - loss: 2.3971e-04 - val_loss: 0.0055\n",
            "Epoch 49/100\n",
            "23/23 [==============================] - 9s 380ms/step - loss: 1.9611e-04 - val_loss: 0.0038\n",
            "Epoch 50/100\n",
            "23/23 [==============================] - 9s 380ms/step - loss: 1.9606e-04 - val_loss: 0.0042\n",
            "Epoch 51/100\n",
            "23/23 [==============================] - 9s 379ms/step - loss: 1.8283e-04 - val_loss: 0.0032\n",
            "Epoch 52/100\n",
            "23/23 [==============================] - 10s 432ms/step - loss: 1.7489e-04 - val_loss: 0.0042\n",
            "Epoch 53/100\n",
            "23/23 [==============================] - 9s 378ms/step - loss: 1.7456e-04 - val_loss: 0.0037\n",
            "Epoch 54/100\n",
            "23/23 [==============================] - 9s 377ms/step - loss: 1.8263e-04 - val_loss: 0.0028\n",
            "Epoch 55/100\n",
            "23/23 [==============================] - 9s 379ms/step - loss: 1.6815e-04 - val_loss: 0.0034\n",
            "Epoch 56/100\n",
            "23/23 [==============================] - 10s 430ms/step - loss: 1.7285e-04 - val_loss: 0.0033\n",
            "Epoch 57/100\n",
            "23/23 [==============================] - 9s 379ms/step - loss: 1.5630e-04 - val_loss: 0.0042\n",
            "Epoch 58/100\n",
            "23/23 [==============================] - 9s 379ms/step - loss: 1.5072e-04 - val_loss: 0.0015\n",
            "Epoch 59/100\n",
            "23/23 [==============================] - 9s 381ms/step - loss: 1.6483e-04 - val_loss: 0.0020\n",
            "Epoch 60/100\n",
            "23/23 [==============================] - 9s 382ms/step - loss: 1.7765e-04 - val_loss: 0.0020\n",
            "Epoch 61/100\n",
            "23/23 [==============================] - 9s 381ms/step - loss: 1.6587e-04 - val_loss: 0.0027\n",
            "Epoch 62/100\n",
            "23/23 [==============================] - 9s 381ms/step - loss: 1.3880e-04 - val_loss: 0.0034\n",
            "Epoch 63/100\n",
            "23/23 [==============================] - 9s 381ms/step - loss: 1.3766e-04 - val_loss: 0.0018\n",
            "Epoch 64/100\n",
            "23/23 [==============================] - 10s 433ms/step - loss: 1.3774e-04 - val_loss: 0.0022\n",
            "Epoch 65/100\n",
            "23/23 [==============================] - 9s 380ms/step - loss: 1.3186e-04 - val_loss: 0.0015\n",
            "Epoch 66/100\n",
            "23/23 [==============================] - 9s 383ms/step - loss: 1.3559e-04 - val_loss: 0.0031\n",
            "Epoch 67/100\n",
            "23/23 [==============================] - 9s 381ms/step - loss: 1.3184e-04 - val_loss: 0.0021\n",
            "Epoch 68/100\n",
            "23/23 [==============================] - 9s 379ms/step - loss: 1.3423e-04 - val_loss: 0.0025\n",
            "Epoch 69/100\n",
            "23/23 [==============================] - 9s 379ms/step - loss: 1.4761e-04 - val_loss: 0.0017\n",
            "Epoch 70/100\n",
            "23/23 [==============================] - 9s 380ms/step - loss: 1.2785e-04 - val_loss: 0.0039\n",
            "Epoch 71/100\n",
            "23/23 [==============================] - 9s 380ms/step - loss: 1.4287e-04 - val_loss: 0.0019\n",
            "Epoch 72/100\n",
            "23/23 [==============================] - 9s 382ms/step - loss: 1.2035e-04 - val_loss: 0.0030\n",
            "Epoch 73/100\n",
            "23/23 [==============================] - 10s 437ms/step - loss: 1.2619e-04 - val_loss: 0.0015\n",
            "Epoch 74/100\n",
            "23/23 [==============================] - 9s 380ms/step - loss: 1.3650e-04 - val_loss: 0.0048\n",
            "Epoch 75/100\n",
            "23/23 [==============================] - 9s 378ms/step - loss: 1.3095e-04 - val_loss: 0.0021\n",
            "Epoch 76/100\n",
            "23/23 [==============================] - 10s 430ms/step - loss: 1.1271e-04 - val_loss: 0.0019\n",
            "Epoch 77/100\n",
            "23/23 [==============================] - 9s 379ms/step - loss: 1.2395e-04 - val_loss: 0.0023\n",
            "Epoch 78/100\n",
            "23/23 [==============================] - 9s 377ms/step - loss: 1.3648e-04 - val_loss: 0.0025\n",
            "Epoch 79/100\n",
            "23/23 [==============================] - 9s 380ms/step - loss: 1.1585e-04 - val_loss: 0.0028\n",
            "Epoch 80/100\n",
            "23/23 [==============================] - 9s 379ms/step - loss: 1.2432e-04 - val_loss: 0.0023\n",
            "Epoch 81/100\n",
            "23/23 [==============================] - 9s 380ms/step - loss: 1.1729e-04 - val_loss: 0.0021\n",
            "Epoch 82/100\n",
            "23/23 [==============================] - 9s 380ms/step - loss: 1.1530e-04 - val_loss: 0.0029\n",
            "Epoch 83/100\n",
            "23/23 [==============================] - 9s 384ms/step - loss: 1.2565e-04 - val_loss: 0.0029\n",
            "Epoch 84/100\n",
            "23/23 [==============================] - 9s 381ms/step - loss: 1.2123e-04 - val_loss: 0.0026\n",
            "Epoch 85/100\n",
            "23/23 [==============================] - 9s 379ms/step - loss: 1.1142e-04 - val_loss: 0.0023\n",
            "Epoch 86/100\n",
            "23/23 [==============================] - 9s 378ms/step - loss: 1.1994e-04 - val_loss: 0.0023\n",
            "Epoch 87/100\n",
            "23/23 [==============================] - 9s 381ms/step - loss: 1.1897e-04 - val_loss: 0.0029\n",
            "Epoch 88/100\n",
            "23/23 [==============================] - 9s 379ms/step - loss: 1.1542e-04 - val_loss: 0.0023\n",
            "Epoch 89/100\n",
            "23/23 [==============================] - 10s 439ms/step - loss: 1.1759e-04 - val_loss: 0.0029\n",
            "Epoch 90/100\n",
            "23/23 [==============================] - 10s 411ms/step - loss: 1.1152e-04 - val_loss: 0.0032\n",
            "Epoch 91/100\n",
            "23/23 [==============================] - 9s 380ms/step - loss: 1.1903e-04 - val_loss: 0.0018\n",
            "Epoch 92/100\n",
            "23/23 [==============================] - 9s 380ms/step - loss: 1.1938e-04 - val_loss: 0.0024\n",
            "Epoch 93/100\n",
            "23/23 [==============================] - 9s 384ms/step - loss: 1.0846e-04 - val_loss: 0.0036\n",
            "Epoch 94/100\n",
            "23/23 [==============================] - 9s 380ms/step - loss: 1.1980e-04 - val_loss: 0.0027\n",
            "Epoch 95/100\n",
            "23/23 [==============================] - 9s 380ms/step - loss: 1.1382e-04 - val_loss: 0.0021\n",
            "Epoch 96/100\n",
            "23/23 [==============================] - 9s 382ms/step - loss: 1.0836e-04 - val_loss: 0.0037\n",
            "Epoch 97/100\n",
            "23/23 [==============================] - 9s 383ms/step - loss: 1.1404e-04 - val_loss: 0.0033\n",
            "Epoch 98/100\n",
            "23/23 [==============================] - 9s 381ms/step - loss: 1.1377e-04 - val_loss: 0.0019\n",
            "Epoch 99/100\n",
            "23/23 [==============================] - 9s 383ms/step - loss: 1.2680e-04 - val_loss: 0.0032\n",
            "Epoch 100/100\n",
            "23/23 [==============================] - 9s 386ms/step - loss: 1.3032e-04 - val_loss: 0.0023\n"
          ]
        },
        {
          "output_type": "execute_result",
          "data": {
            "text/plain": [
              "<tensorflow.python.keras.callbacks.History at 0x7f4ab4bca8d0>"
            ]
          },
          "metadata": {},
          "execution_count": 17
        }
      ]
    },
    {
      "cell_type": "markdown",
      "source": [
        "## Evaluation"
      ],
      "metadata": {
        "id": "-KdhgUr89naU"
      }
    },
    {
      "cell_type": "code",
      "source": [
        "#Lets predict and check performance metrics\n",
        "train_predict = model.predict(x_train)\n",
        "test_predict = model.predict(x_test)"
      ],
      "metadata": {
        "id": "piD0CTMs9lz_"
      },
      "execution_count": 18,
      "outputs": []
    },
    {
      "cell_type": "code",
      "source": [
        "#Transform back to original form\n",
        "train_predict = scaler.inverse_transform(train_predict)\n",
        "test_predict = scaler.inverse_transform(test_predict)"
      ],
      "metadata": {
        "id": "KQnCLrAR9s9g"
      },
      "execution_count": 19,
      "outputs": []
    },
    {
      "cell_type": "code",
      "source": [
        "#Calculate RMSE performance metrics\n",
        "math.sqrt(mean_squared_error(y_train, train_predict))"
      ],
      "metadata": {
        "colab": {
          "base_uri": "https://localhost:8080/"
        },
        "id": "MyCBZ-EA9zUh",
        "outputId": "5def4319-e237-49b9-ac00-7e0029520c6f"
      },
      "execution_count": 20,
      "outputs": [
        {
          "output_type": "execute_result",
          "data": {
            "text/plain": [
              "135.7132294619925"
            ]
          },
          "metadata": {},
          "execution_count": 20
        }
      ]
    },
    {
      "cell_type": "code",
      "source": [
        "#Test Data RMSE\n",
        "math.sqrt(mean_squared_error(y_test, test_predict))"
      ],
      "metadata": {
        "colab": {
          "base_uri": "https://localhost:8080/"
        },
        "id": "ercLgRLM92Ab",
        "outputId": "b10b188e-1387-4322-c554-488a509e2a2c"
      },
      "execution_count": 21,
      "outputs": [
        {
          "output_type": "execute_result",
          "data": {
            "text/plain": [
              "225.54439594087617"
            ]
          },
          "metadata": {},
          "execution_count": 21
        }
      ]
    },
    {
      "cell_type": "code",
      "source": [
        "#Plotting\n",
        "\n",
        "#Shift train prediction for plotting\n",
        "look_back = 100\n",
        "trainPredictPlot = np.empty_like(df)\n",
        "trainPredictPlot[:,:] = np.nan\n",
        "trainPredictPlot[look_back:len(train_predict) + look_back, :] = train_predict\n",
        "\n",
        "#Shift test prediction for plotting\n",
        "testPredictPlot = np.empty_like(df)\n",
        "testPredictPlot[:,:] = np.nan\n",
        "testPredictPlot[len(train_predict) + (look_back * 2)+1:len(df) - 1, :] = test_predict\n",
        "\n",
        "#Plot baseline and predictions\n",
        "plt.plot(scaler.inverse_transform(df))\n",
        "plt.plot(trainPredictPlot)\n",
        "plt.plot(testPredictPlot)\n",
        "plt.show()"
      ],
      "metadata": {
        "colab": {
          "base_uri": "https://localhost:8080/",
          "height": 265
        },
        "id": "UufLvvo095mE",
        "outputId": "cb93ba3f-7c44-4378-dad1-c24fe32c9e35"
      },
      "execution_count": 22,
      "outputs": [
        {
          "output_type": "display_data",
          "data": {
            "text/plain": [
              "<Figure size 432x288 with 1 Axes>"
            ],
            "image/png": "[encoded data removed]"
          },
          "metadata": {
            "needs_background": "light"
          }
        }
      ]
    },
    {
      "cell_type": "markdown",
      "source": [
        "* Green indicates the Predicted Data\n",
        "* Blue indicates the Complete Data\n",
        "* Orange indicates the Train Data\n",
        "\n"
      ],
      "metadata": {
        "id": "WBeO47TO9_ND"
      }
    },
    {
      "cell_type": "markdown",
      "source": [
        "## Predict the next 7 days Stock Price"
      ],
      "metadata": {
        "id": "clB47WJK-KuA"
      }
    },
    {
      "cell_type": "code",
      "source": [
        "len(test_data), x_test.shape"
      ],
      "metadata": {
        "colab": {
          "base_uri": "https://localhost:8080/"
        },
        "id": "z3gS124E-KLS",
        "outputId": "7068bef4-87cd-4681-aa5c-b1e5ad954577"
      },
      "execution_count": 23,
      "outputs": [
        {
          "output_type": "execute_result",
          "data": {
            "text/plain": [
              "(509, (408, 100, 1))"
            ]
          },
          "metadata": {},
          "execution_count": 23
        }
      ]
    },
    {
      "cell_type": "code",
      "source": [
        "x_input = test_data[409:].reshape(1,-1)\n",
        "x_input.shape"
      ],
      "metadata": {
        "colab": {
          "base_uri": "https://localhost:8080/"
        },
        "id": "II24zThW-HNv",
        "outputId": "02800652-aa5d-402a-c6df-d96735716949"
      },
      "execution_count": 24,
      "outputs": [
        {
          "output_type": "execute_result",
          "data": {
            "text/plain": [
              "(1, 100)"
            ]
          },
          "metadata": {},
          "execution_count": 24
        }
      ]
    },
    {
      "cell_type": "code",
      "source": [
        "temp_input = list(x_input)\n",
        "temp_input = temp_input[0].tolist()"
      ],
      "metadata": {
        "id": "CptC9G_a-Zwk"
      },
      "execution_count": 25,
      "outputs": []
    },
    {
      "cell_type": "code",
      "source": [
        "lst_output=[]\n",
        "n_steps=100\n",
        "nextNumberOfDays = 7\n",
        "i=0\n",
        "\n",
        "while(i<nextNumberOfDays):\n",
        "    \n",
        "    if(len(temp_input)>100):\n",
        "        x_input=np.array(temp_input[1:])\n",
        "        print(\"{} day input {}\".format(i,x_input))\n",
        "        x_input=x_input.reshape(1,-1)\n",
        "        x_input = x_input.reshape((1, n_steps, 1))\n",
        "        yhat = model.predict(x_input, verbose=0)\n",
        "        print(\"{} day output {}\".format(i,yhat))\n",
        "        temp_input.extend(yhat[0].tolist())\n",
        "        temp_input=temp_input[1:]\n",
        "        lst_output.extend(yhat.tolist())\n",
        "        i=i+1\n",
        "    else:\n",
        "        x_input = x_input.reshape((1, n_steps,1))\n",
        "        yhat = model.predict(x_input, verbose=0)\n",
        "        print(yhat[0])\n",
        "        temp_input.extend(yhat[0].tolist())\n",
        "        print(len(temp_input))\n",
        "        lst_output.extend(yhat.tolist())\n",
        "        i=i+1\n",
        "    \n",
        "\n",
        "print(lst_output)"
      ],
      "metadata": {
        "colab": {
          "base_uri": "https://localhost:8080/"
        },
        "id": "5bO1Cvdl-fUh",
        "outputId": "e86deb68-4fba-4faa-95fc-c0c6e8485eb2"
      },
      "execution_count": 26,
      "outputs": [
        {
          "output_type": "stream",
          "name": "stdout",
          "text": [
            "[0.60863316]\n",
            "101\n",
            "1 day input [0.86013417 0.85464525 0.84448059 0.8072779  0.71843871 0.66192316\n",
            " 0.67696686 0.67554381 0.67310429 0.68428542 0.68936776 0.70217524\n",
            " 0.71803212 0.72941655 0.73144948 0.74486684 0.76926205 0.75991055\n",
            " 0.74242732 0.73958122 0.74771295 0.75991055 0.7584875  0.76621264\n",
            " 0.75462492 0.76316324 0.79670665 0.80585485 0.7889815  0.78003659\n",
            " 0.73978451 0.73002643 0.73490547 0.74872942 0.75991055 0.75462492\n",
            " 0.75401504 0.76174019 0.7737345  0.82008538 0.80585485 0.81154706\n",
            " 0.77434438 0.78633869 0.79284407 0.78328929 0.77109169 0.74385038\n",
            " 0.71193332 0.68733482 0.67818662 0.65257166 0.64301687 0.65643423\n",
            " 0.67656028 0.67371417 0.65114861 0.65521447 0.66761537 0.67838992\n",
            " 0.69993901 0.63122586 0.63508843 0.64098394 0.64545639 0.64118723\n",
            " 0.63854442 0.63081927 0.62472047 0.6330555  0.64728603 0.6574507\n",
            " 0.66761537 0.66720878 0.64159382 0.62776987 0.63651149 0.63630819\n",
            " 0.62980281 0.62817646 0.63813783 0.65358813 0.63183574 0.57653995\n",
            " 0.57816629 0.57613336 0.61943484 0.57979264 0.57288067 0.62573694\n",
            " 0.63102257 0.6361049  0.62776987 0.6269567  0.63590161 0.62594023\n",
            " 0.6391543  0.62614353 0.62268754 0.60863316]\n",
            "1 day output [[0.57062596]]\n",
            "2 day input [0.85464525 0.84448059 0.8072779  0.71843871 0.66192316 0.67696686\n",
            " 0.67554381 0.67310429 0.68428542 0.68936776 0.70217524 0.71803212\n",
            " 0.72941655 0.73144948 0.74486684 0.76926205 0.75991055 0.74242732\n",
            " 0.73958122 0.74771295 0.75991055 0.7584875  0.76621264 0.75462492\n",
            " 0.76316324 0.79670665 0.80585485 0.7889815  0.78003659 0.73978451\n",
            " 0.73002643 0.73490547 0.74872942 0.75991055 0.75462492 0.75401504\n",
            " 0.76174019 0.7737345  0.82008538 0.80585485 0.81154706 0.77434438\n",
            " 0.78633869 0.79284407 0.78328929 0.77109169 0.74385038 0.71193332\n",
            " 0.68733482 0.67818662 0.65257166 0.64301687 0.65643423 0.67656028\n",
            " 0.67371417 0.65114861 0.65521447 0.66761537 0.67838992 0.69993901\n",
            " 0.63122586 0.63508843 0.64098394 0.64545639 0.64118723 0.63854442\n",
            " 0.63081927 0.62472047 0.6330555  0.64728603 0.6574507  0.66761537\n",
            " 0.66720878 0.64159382 0.62776987 0.63651149 0.63630819 0.62980281\n",
            " 0.62817646 0.63813783 0.65358813 0.63183574 0.57653995 0.57816629\n",
            " 0.57613336 0.61943484 0.57979264 0.57288067 0.62573694 0.63102257\n",
            " 0.6361049  0.62776987 0.6269567  0.63590161 0.62594023 0.6391543\n",
            " 0.62614353 0.62268754 0.60863316 0.57062596]\n",
            "2 day output [[0.52173805]]\n",
            "3 day input [0.84448059 0.8072779  0.71843871 0.66192316 0.67696686 0.67554381\n",
            " 0.67310429 0.68428542 0.68936776 0.70217524 0.71803212 0.72941655\n",
            " 0.73144948 0.74486684 0.76926205 0.75991055 0.74242732 0.73958122\n",
            " 0.74771295 0.75991055 0.7584875  0.76621264 0.75462492 0.76316324\n",
            " 0.79670665 0.80585485 0.7889815  0.78003659 0.73978451 0.73002643\n",
            " 0.73490547 0.74872942 0.75991055 0.75462492 0.75401504 0.76174019\n",
            " 0.7737345  0.82008538 0.80585485 0.81154706 0.77434438 0.78633869\n",
            " 0.79284407 0.78328929 0.77109169 0.74385038 0.71193332 0.68733482\n",
            " 0.67818662 0.65257166 0.64301687 0.65643423 0.67656028 0.67371417\n",
            " 0.65114861 0.65521447 0.66761537 0.67838992 0.69993901 0.63122586\n",
            " 0.63508843 0.64098394 0.64545639 0.64118723 0.63854442 0.63081927\n",
            " 0.62472047 0.6330555  0.64728603 0.6574507  0.66761537 0.66720878\n",
            " 0.64159382 0.62776987 0.63651149 0.63630819 0.62980281 0.62817646\n",
            " 0.63813783 0.65358813 0.63183574 0.57653995 0.57816629 0.57613336\n",
            " 0.61943484 0.57979264 0.57288067 0.62573694 0.63102257 0.6361049\n",
            " 0.62776987 0.6269567  0.63590161 0.62594023 0.6391543  0.62614353\n",
            " 0.62268754 0.60863316 0.57062596 0.52173805]\n",
            "3 day output [[0.47654346]]\n",
            "4 day input [0.8072779  0.71843871 0.66192316 0.67696686 0.67554381 0.67310429\n",
            " 0.68428542 0.68936776 0.70217524 0.71803212 0.72941655 0.73144948\n",
            " 0.74486684 0.76926205 0.75991055 0.74242732 0.73958122 0.74771295\n",
            " 0.75991055 0.7584875  0.76621264 0.75462492 0.76316324 0.79670665\n",
            " 0.80585485 0.7889815  0.78003659 0.73978451 0.73002643 0.73490547\n",
            " 0.74872942 0.75991055 0.75462492 0.75401504 0.76174019 0.7737345\n",
            " 0.82008538 0.80585485 0.81154706 0.77434438 0.78633869 0.79284407\n",
            " 0.78328929 0.77109169 0.74385038 0.71193332 0.68733482 0.67818662\n",
            " 0.65257166 0.64301687 0.65643423 0.67656028 0.67371417 0.65114861\n",
            " 0.65521447 0.66761537 0.67838992 0.69993901 0.63122586 0.63508843\n",
            " 0.64098394 0.64545639 0.64118723 0.63854442 0.63081927 0.62472047\n",
            " 0.6330555  0.64728603 0.6574507  0.66761537 0.66720878 0.64159382\n",
            " 0.62776987 0.63651149 0.63630819 0.62980281 0.62817646 0.63813783\n",
            " 0.65358813 0.63183574 0.57653995 0.57816629 0.57613336 0.61943484\n",
            " 0.57979264 0.57288067 0.62573694 0.63102257 0.6361049  0.62776987\n",
            " 0.6269567  0.63590161 0.62594023 0.6391543  0.62614353 0.62268754\n",
            " 0.60863316 0.57062596 0.52173805 0.47654346]\n",
            "4 day output [[0.4431448]]\n",
            "5 day input [0.71843871 0.66192316 0.67696686 0.67554381 0.67310429 0.68428542\n",
            " 0.68936776 0.70217524 0.71803212 0.72941655 0.73144948 0.74486684\n",
            " 0.76926205 0.75991055 0.74242732 0.73958122 0.74771295 0.75991055\n",
            " 0.7584875  0.76621264 0.75462492 0.76316324 0.79670665 0.80585485\n",
            " 0.7889815  0.78003659 0.73978451 0.73002643 0.73490547 0.74872942\n",
            " 0.75991055 0.75462492 0.75401504 0.76174019 0.7737345  0.82008538\n",
            " 0.80585485 0.81154706 0.77434438 0.78633869 0.79284407 0.78328929\n",
            " 0.77109169 0.74385038 0.71193332 0.68733482 0.67818662 0.65257166\n",
            " 0.64301687 0.65643423 0.67656028 0.67371417 0.65114861 0.65521447\n",
            " 0.66761537 0.67838992 0.69993901 0.63122586 0.63508843 0.64098394\n",
            " 0.64545639 0.64118723 0.63854442 0.63081927 0.62472047 0.6330555\n",
            " 0.64728603 0.6574507  0.66761537 0.66720878 0.64159382 0.62776987\n",
            " 0.63651149 0.63630819 0.62980281 0.62817646 0.63813783 0.65358813\n",
            " 0.63183574 0.57653995 0.57816629 0.57613336 0.61943484 0.57979264\n",
            " 0.57288067 0.62573694 0.63102257 0.6361049  0.62776987 0.6269567\n",
            " 0.63590161 0.62594023 0.6391543  0.62614353 0.62268754 0.60863316\n",
            " 0.57062596 0.52173805 0.47654346 0.4431448 ]\n",
            "5 day output [[0.42161995]]\n",
            "6 day input [0.66192316 0.67696686 0.67554381 0.67310429 0.68428542 0.68936776\n",
            " 0.70217524 0.71803212 0.72941655 0.73144948 0.74486684 0.76926205\n",
            " 0.75991055 0.74242732 0.73958122 0.74771295 0.75991055 0.7584875\n",
            " 0.76621264 0.75462492 0.76316324 0.79670665 0.80585485 0.7889815\n",
            " 0.78003659 0.73978451 0.73002643 0.73490547 0.74872942 0.75991055\n",
            " 0.75462492 0.75401504 0.76174019 0.7737345  0.82008538 0.80585485\n",
            " 0.81154706 0.77434438 0.78633869 0.79284407 0.78328929 0.77109169\n",
            " 0.74385038 0.71193332 0.68733482 0.67818662 0.65257166 0.64301687\n",
            " 0.65643423 0.67656028 0.67371417 0.65114861 0.65521447 0.66761537\n",
            " 0.67838992 0.69993901 0.63122586 0.63508843 0.64098394 0.64545639\n",
            " 0.64118723 0.63854442 0.63081927 0.62472047 0.6330555  0.64728603\n",
            " 0.6574507  0.66761537 0.66720878 0.64159382 0.62776987 0.63651149\n",
            " 0.63630819 0.62980281 0.62817646 0.63813783 0.65358813 0.63183574\n",
            " 0.57653995 0.57816629 0.57613336 0.61943484 0.57979264 0.57288067\n",
            " 0.62573694 0.63102257 0.6361049  0.62776987 0.6269567  0.63590161\n",
            " 0.62594023 0.6391543  0.62614353 0.62268754 0.60863316 0.57062596\n",
            " 0.52173805 0.47654346 0.4431448  0.42161995]\n",
            "6 day output [[0.40828666]]\n",
            "[[0.6086331605911255], [0.5706259608268738], [0.5217380523681641], [0.47654345631599426], [0.4431447982788086], [0.4216199517250061], [0.4082866609096527]]\n"
          ]
        }
      ]
    },
    {
      "cell_type": "code",
      "source": [
        "day_new = np.arange(1,101)\n",
        "day_pred = np.arange(101,108)"
      ],
      "metadata": {
        "id": "fkTQ0U65-035"
      },
      "execution_count": 27,
      "outputs": []
    },
    {
      "cell_type": "code",
      "source": [
        "day_new.shape"
      ],
      "metadata": {
        "colab": {
          "base_uri": "https://localhost:8080/"
        },
        "id": "WxwcIH_a-3qB",
        "outputId": "7be43631-bf4f-43c5-bdec-2c3dac062133"
      },
      "execution_count": 28,
      "outputs": [
        {
          "output_type": "execute_result",
          "data": {
            "text/plain": [
              "(100,)"
            ]
          },
          "metadata": {},
          "execution_count": 28
        }
      ]
    },
    {
      "cell_type": "code",
      "source": [
        "day_pred.shape"
      ],
      "metadata": {
        "colab": {
          "base_uri": "https://localhost:8080/"
        },
        "id": "rLRtrKpM-50Z",
        "outputId": "f92efe09-bcac-446d-9648-6230794c709a"
      },
      "execution_count": 29,
      "outputs": [
        {
          "output_type": "execute_result",
          "data": {
            "text/plain": [
              "(7,)"
            ]
          },
          "metadata": {},
          "execution_count": 29
        }
      ]
    },
    {
      "cell_type": "code",
      "source": [
        "len(lst_output)"
      ],
      "metadata": {
        "colab": {
          "base_uri": "https://localhost:8080/"
        },
        "id": "glwfT7G6F554",
        "outputId": "582919c9-72ca-4f3e-8b8c-ad09ee69d2c8"
      },
      "execution_count": 30,
      "outputs": [
        {
          "output_type": "execute_result",
          "data": {
            "text/plain": [
              "7"
            ]
          },
          "metadata": {},
          "execution_count": 30
        }
      ]
    },
    {
      "cell_type": "code",
      "source": [
        "plt.plot(day_new, scaler.inverse_transform(df[1935:]))\n",
        "plt.plot(day_pred, scaler.inverse_transform(lst_output))"
      ],
      "metadata": {
        "colab": {
          "base_uri": "https://localhost:8080/",
          "height": 283
        },
        "id": "lwUoz4QJ_F4F",
        "outputId": "a15b4598-ab3b-4276-bbe0-3f7acd2ed9a7"
      },
      "execution_count": 31,
      "outputs": [
        {
          "output_type": "execute_result",
          "data": {
            "text/plain": [
              "[<matplotlib.lines.Line2D at 0x7f4ab4827190>]"
            ]
          },
          "metadata": {},
          "execution_count": 31
        },
        {
          "output_type": "display_data",
          "data": {
            "text/plain": [
              "<Figure size 432x288 with 1 Axes>"
            ],
            "image/png": "[encoded data removed]"
          },
          "metadata": {
            "needs_background": "light"
          }
        }
      ]
    },
    {
      "cell_type": "code",
      "source": [
        "df1=df.tolist()\n",
        "df1.extend(lst_output)\n",
        "plt.plot(df1[2000:])"
      ],
      "metadata": {
        "colab": {
          "base_uri": "https://localhost:8080/",
          "height": 282
        },
        "id": "gDCXo363_M9I",
        "outputId": "af08ccd6-36bb-49c5-9d60-80012b7d2c94"
      },
      "execution_count": 32,
      "outputs": [
        {
          "output_type": "execute_result",
          "data": {
            "text/plain": [
              "[<matplotlib.lines.Line2D at 0x7f4ab8fa0ed0>]"
            ]
          },
          "metadata": {},
          "execution_count": 32
        },
        {
          "output_type": "display_data",
          "data": {
            "text/plain": [
              "<Figure size 432x288 with 1 Axes>"
            ],
            "image/png": "[encoded data removed]"
          },
          "metadata": {
            "needs_background": "light"
          }
        }
      ]
    },
    {
      "cell_type": "code",
      "source": [
        "df2 = scaler.inverse_transform(df1).tolist()"
      ],
      "metadata": {
        "id": "R0iDakN3_bcT"
      },
      "execution_count": 33,
      "outputs": []
    },
    {
      "cell_type": "code",
      "source": [
        "plt.plot(df2)"
      ],
      "metadata": {
        "colab": {
          "base_uri": "https://localhost:8080/",
          "height": 282
        },
        "id": "gaAriggo_g_T",
        "outputId": "d9fc0109-16de-440b-8518-eca2903d7819"
      },
      "execution_count": 34,
      "outputs": [
        {
          "output_type": "execute_result",
          "data": {
            "text/plain": [
              "[<matplotlib.lines.Line2D at 0x7f4ab48c5490>]"
            ]
          },
          "metadata": {},
          "execution_count": 34
        },
        {
          "output_type": "display_data",
          "data": {
            "text/plain": [
              "<Figure size 432x288 with 1 Axes>"
            ],
            "image/png": "[encoded data removed]"
          },
          "metadata": {
            "needs_background": "light"
          }
        }
      ]
    }
  ]
}